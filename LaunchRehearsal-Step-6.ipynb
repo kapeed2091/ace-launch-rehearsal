{
 "cells": [
  {
   "cell_type": "code",
   "execution_count": 19,
   "id": "037a768c",
   "metadata": {},
   "outputs": [
    {
     "name": "stdout",
     "output_type": "stream",
     "text": [
      "child_award_date_field_id -> 5b166cfc-4364-47a5-82ef-a37d19050329\n",
      "child_award_id_field_id -> 321665ac-b22e-46d3-aa8b-138b5c517f5c\n",
      "child_first_name_field_id -> 11395a6d-ad6a-4274-b261-0e4298147370\n",
      "child_homeschooled_field_id -> ba66ca8f-ec2b-41bc-a1d6-ce9e7d70ef3a\n",
      "child_last_name_field_id -> 9e8c2243-7710-43f3-86c2-e37a12c0980a\n",
      "child_merit_template_id -> a754b470-d2f4-4152-bd43-e21155e38583\n",
      "child_school_year_field_id -> be0619d1-bc48-4659-9614-23cac89b4294\n",
      "service_provider_access_merit_template_id -> 16663593-9641-466d-bd48-27b846b4251b\n",
      "account_merit_template_id -> c0c24a53-f3f9-40ca-b965-d2b7e147419f\n",
      "parent_email_name_field_id -> a4f5e787-507f-42d2-b86c-f3a1c4e59748\n",
      "parent_first_name_field_id -> 358f7f49-2821-46a6-be25-8f5733f95e43\n",
      "parent_last_name_field_id -> 12d0d2e1-9da3-4725-8bc4-a157a50ca65d\n"
     ]
    }
   ],
   "source": [
    "import json\n",
    "\n",
    "ACE_TEMPLATE_JSON_FILE = 'LR-05052023/ace_templates.json'\n",
    "ACCOUNT_MERIT_TEMPLATE_FILE = 'LR-05052023/account_merit_template.json'\n",
    "\n",
    "# Read ACE templates\n",
    "\n",
    "f = open(ACE_TEMPLATE_JSON_FILE)\n",
    "\n",
    "ace_templates = json.loads(f.read())\n",
    "\n",
    "print(\"child_award_date_field_id ->\", ace_templates['templates'][0]['templateFields'][8]['id'])\n",
    "print(\"child_award_id_field_id ->\", ace_templates['templates'][0]['templateFields'][7]['id'])\n",
    "print(\"child_first_name_field_id ->\", ace_templates['templates'][0]['templateFields'][5]['id'])\n",
    "print(\"child_homeschooled_field_id ->\", ace_templates['templates'][0]['templateFields'][4]['id'])\n",
    "print(\"child_last_name_field_id ->\", ace_templates['templates'][0]['templateFields'][6]['id'])\n",
    "print(\"child_merit_template_id ->\", ace_templates['templates'][0]['id'])\n",
    "print(\"child_school_year_field_id ->\", ace_templates['templates'][0]['templateFields'][9]['id'])\n",
    "print(\"service_provider_access_merit_template_id ->\", ace_templates['templates'][2]['id'])\n",
    "\n",
    "f.close()\n",
    "\n",
    "###################\n",
    "\n",
    "# Read Account Merit Template\n",
    "\n",
    "f = open(ACCOUNT_MERIT_TEMPLATE_FILE)\n",
    "\n",
    "account_merit_template = json.loads(f.read())\n",
    "\n",
    "print(\"account_merit_template_id ->\", account_merit_template['id'])\n",
    "print(\"parent_email_name_field_id ->\", account_merit_template['templateFields'][2]['id'])\n",
    "print(\"parent_first_name_field_id ->\", account_merit_template['templateFields'][0]['id'])\n",
    "print(\"parent_last_name_field_id ->\", account_merit_template['templateFields'][1]['id'])\n",
    "\n",
    "f.close()"
   ]
  },
  {
   "cell_type": "code",
   "execution_count": null,
   "id": "25dfd471",
   "metadata": {},
   "outputs": [],
   "source": []
  }
 ],
 "metadata": {
  "kernelspec": {
   "display_name": "Python 3 (ipykernel)",
   "language": "python",
   "name": "python3"
  },
  "language_info": {
   "codemirror_mode": {
    "name": "ipython",
    "version": 3
   },
   "file_extension": ".py",
   "mimetype": "text/x-python",
   "name": "python",
   "nbconvert_exporter": "python",
   "pygments_lexer": "ipython3",
   "version": "3.10.6"
  }
 },
 "nbformat": 4,
 "nbformat_minor": 5
}
